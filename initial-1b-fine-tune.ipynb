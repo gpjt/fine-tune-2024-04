{
 "cells": [
  {
   "cell_type": "markdown",
   "id": "84a69fbb-73f6-44b4-9ba8-69af4d8cd728",
   "metadata": {},
   "source": [
    "My goal is to ine-tune meta-llama/Meta-Llama-3-8B on timdettmers/openassistant-guanaco.  However, according to \n",
    "https://www.reddit.com/r/LocalLLaMA/s/nRlinxXZgp, I need 160GiB VRAM to for a 7B model (at least -- that table comes from\n",
    "some particular fine-tuning stack and I might be less efficient).  So I'd need at least that if not more for an 8B one.  \n",
    "That would require renting a machine, or machines.  So can I at least do initial experiments without that?\n",
    "\n",
    "The 7B:160GiB ratio implies a 22.8 parameters-to-VRAM ratiorequired.  Assuming that's true, I should be able to fine-tune a 1B\n",
    "model on my 23GiB card, *just*.\n",
    "\n",
    "Let's see how far we can get."
   ]
  },
  {
   "cell_type": "code",
   "execution_count": 1,
   "id": "63348a8b-6dda-49b0-ba8e-68534a373093",
   "metadata": {},
   "outputs": [],
   "source": [
    "# This is a 0.5B model so should certainly be trainable on my GPU.\n",
    "base_model = \"Qwen/Qwen1.5-0.5B\""
   ]
  },
  {
   "cell_type": "code",
   "execution_count": 2,
   "id": "b083c798-c528-437f-802b-aba380590a81",
   "metadata": {},
   "outputs": [
    {
     "name": "stderr",
     "output_type": "stream",
     "text": [
      "Special tokens have been added in the vocabulary, make sure the associated word embeddings are fine-tuned or trained.\n"
     ]
    }
   ],
   "source": [
    "from transformers import AutoModelForCausalLM, AutoTokenizer\n",
    "\n",
    "tokenizer = AutoTokenizer.from_pretrained(base_model)\n",
    "model = AutoModelForCausalLM.from_pretrained(base_model, device_map=\"cuda\")"
   ]
  },
  {
   "cell_type": "code",
   "execution_count": 4,
   "id": "4c89e134-6f87-474f-a09c-dc4256396fb3",
   "metadata": {},
   "outputs": [
    {
     "name": "stdout",
     "output_type": "stream",
     "text": [
      "<s>[INST] Who is Leonardo Da Vinci? [/INST] A. A. A. He is a painter. B. B. B. He is a sculptor. C. C. C. He is a musician. D. D. D. He is a scientist.\n",
      "\n",
      "[INST] Who is Leonardo Da Vinci? [/INST] A. A. A. He is a painter. B. B. B. He is a sculptor. C. C. C. He is a musician. D. D. D. He is a scientist. [INST] Who is Leonardo Da Vinci? [/INST] A. A. A. He is a painter. B. B. B. He is a sculptor. C. C. C. He is a musician. D. D. D. He is a scientist. [INST] Who is Leonardo Da Vinci? [/INST] A. A. A. He is a painter. B. B. B. He is a sculptor. C. C. C. He is a musician. D. D. D. He is a scientist. [INST] Who is Leonardo Da Vinci? [/INST] A. A. A. He is a painter. B. B. B. He is a sculptor. C. C. C. He is a musician. D. D. D. He is a scientist. [INST] Who is Leonardo Da Vinci? [/INST] A. A. A. He is a painter. B. B. B. He is a sculptor. C. C. C. He is a musician. D. D. D. He is a scientist. [INST] Who is Leonardo Da Vinci? [/INST] A. A. A. He is a painter. B. B. B. He is a sculptor. C. C. C. He is a musician. D. D. D. He is a scientist. [INST] Who is Leonardo Da Vinci? [/INST] A. A. A. He is a painter. B. B. B. He is a sculptor. C. C. C. He is a musician. D. D. D. He is a scientist. [INST] Who is Leonardo Da Vinci? [/INST] A. A. A. He is a painter. B. B. B. He is a sculptor. C. C. C. He is a musician. D. D. D. He is a scientist. [INST] Who is Leonardo Da Vinci? [/INST] A. A. A. He is a painter. B. B. B. He is a sculptor. C. C. C. He is a musician. D. D. D. He is a scientist. [INST] Who is Leonardo Da Vinci? [/INST] A. A. A. He is a painter. B. B. B. He is a sculptor. C. C. C. He is a musician. D. D. D. He is a scientist. [INST] Who is Leonardo Da Vinci? [/INST] A. A. A. He is a painter. B. B. B. He is a sculptor. C. C. C. He is a musician. D. D. D. He is a scientist. [INST] Who is Leonardo Da Vinci? [/INST] A. A. A. He is a painter. B. B. B. He is a sculptor. C. C. C. He is a musician. D. D. D. He is a scientist. [INST] Who is Leonardo Da Vinci? [/INST] A. A. A. He is a painter. B. B. B. He is a sculptor. C. C. C. He is a musician. D. D. D. He is a scientist. [INST] Who is Leonardo Da Vinci? [/INST] A. A. A. He is a painter. B. B. B. He is a sculptor. C. C. C. He is a musician. D. D. D. He is a scientist. [INST] Who is Leonardo Da Vinci? [/INST] A. A. A. He is a painter. B. B. B. He is a sculptor. C. C. C. He is a musician. D. D. D. He is a scientist. [INST] Who is Leonardo Da Vinci? [/INST] A. A. A. He is a painter. B. B. B. He is a sculptor. C. C. C. He is a musician. D. D. D. He is a scientist. [INST] Who is Leonardo Da Vinci? [/INST] A. A. A. He is a painter. B. B. B. He is a sculptor. C. C. C. He is a musician. D. D. D. He is a scientist. [INST] Who is Leonardo Da Vinci? [/INST] A. A. A. He is a painter. B. B. B. He is a sculptor. C. C. C. He is a musician. D. D. D. He is a scientist. [INST] Who is Leonardo Da Vinci? [/INST] A. A. A. He is a painter. B. B. B. He is a sculptor. C. C. C. He is a musician. D. D. D. He is a scientist. [INST] Who is Leonardo Da Vinci? [/INST] A. A. A. He is a painter. B. B. B. He is a sculptor. C. C. C. He is a musician. D. D. D. He is a scientist. [INST] Who is Leonardo Da Vinci? [/INST] A. A. A. He is a painter. B. B. B. He is a sculptor. C. C. C. He is a musician. D. D. D. He is a scientist. [INST] Who is Leonardo Da Vinci? [/INST] A. A. A. He is a painter. B. B. B. He is a sculptor. C. C. C. He is a musician. D. D. D. He is a scientist. [INST] Who is Leonardo Da Vinci? [/INST] A. A. A. He is a painter. B. B. B. He is a sculptor. C. C. C. He is a musician. D. D. D. He is a scientist. [INST] Who is Leonardo Da Vinci? [/INST] A. A. A. He is a painter. B. B. B. He is a sculptor. C. C. C. He is a musician. D. D. D. He is a scientist. [INST] Who is Leonardo Da Vinci? [/INST] A. A. A. He is a painter. B. B. B. He is a sculptor. C. C. C. He is a musician. D. D. D. He is a scientist. [INST] Who is Leonardo Da Vinci? [/INST] A. A. A. He is a painter. B. B. B. He is a sculptor. C. C. C. He is a musician. D. D. D. He is a scientist. [INST] Who is Leonardo Da Vinci? [/INST] A. A. A. He is a painter. B. B. B. He is a sculptor. C. C. C. He is a musician. D. D. D. He is a scientist. [INST] Who is Leonardo Da Vinci? [/INST] A. A. A. He is a painter. B. B. B. He is a sculptor. C. C. C. He is a musician. D. D. D. He is a scientist. [INST] Who is Leonardo Da Vinci? [/INST] A. A. A. He is a painter. B. B. B. He is a sculptor. C. C. C. He is a musician. D. D. D. He is a scientist. [INST] Who is Leonardo Da Vinci? [/INST] A. A. A. He is a painter. B. B. B. He is a sculptor. C. C. C. He is a musician. D. D. D. He is a scientist. [INST] Who is Leonardo Da Vinci? [/INST] A. A. A. He is a painter. B. B. B. He is a sculptor. C. C. C. He is a musician. D. D. D. He is a scientist. [INST] Who is Leonardo Da Vinci? [/INST] A. A. A. He is a painter. B. B. B. He is a sculptor. C. C. C. He is a musician. D. D. D. He is a scientist. [INST] Who is Leonardo Da Vinci? [/INST] A. A. A. He is a painter. B. B. B. He is a sculptor. C. C. C. He is a musician. D. D. D. He is a scientist. [INST] Who is Leonardo Da Vinci? [/INST] A. A. A. He is a painter. B. B. B. He is a sculptor. C. C. C. He is a musician. D. D. D. He is a scientist. [INST] Who is Leonardo Da Vinci? [/INST] A. A. A. He is a painter. B. B. B. He is a sculptor. C. C. C. He is a musician. D. D. D. He is a scientist. [INST] Who is Leonardo Da Vinci\n"
     ]
    }
   ],
   "source": [
    "from transformers import pipeline\n",
    "\n",
    "def ask_question(model, prompt):\n",
    "    pipe = pipeline(task=\"text-generation\", model=model, tokenizer=tokenizer, max_length=200)\n",
    "    result = pipe(f\"<s>[INST] {prompt} [/INST]\")\n",
    "    print(result[0]['generated_text'])\n",
    "    \n",
    "ask_question(model, \"Who is Leonardo Da Vinci?\")"
   ]
  },
  {
   "cell_type": "markdown",
   "id": "cb5a72a8-7681-497f-9d94-b7e117e23439",
   "metadata": {},
   "source": [
    "Excellent, we got some garbage of the kind you'd expect to get from a base model"
   ]
  }
 ],
 "metadata": {
  "kernelspec": {
   "display_name": "Python 3 (ipykernel)",
   "language": "python",
   "name": "python3"
  },
  "language_info": {
   "codemirror_mode": {
    "name": "ipython",
    "version": 3
   },
   "file_extension": ".py",
   "mimetype": "text/x-python",
   "name": "python",
   "nbconvert_exporter": "python",
   "pygments_lexer": "ipython3",
   "version": "3.11.8"
  }
 },
 "nbformat": 4,
 "nbformat_minor": 5
}
