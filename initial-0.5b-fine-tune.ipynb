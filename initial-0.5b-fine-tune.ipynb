{
 "cells": [
  {
   "cell_type": "markdown",
   "id": "84a69fbb-73f6-44b4-9ba8-69af4d8cd728",
   "metadata": {},
   "source": [
    "# Initial fine-tuning with a 0.5B parameter model\n",
    "\n",
    "My goal is to fine-tune meta-llama/Meta-Llama-3-8B on timdettmers/openassistant-guanaco.  However, according to \n",
    "https://www.reddit.com/r/LocalLLaMA/s/nRlinxXZgp, I need 160GiB VRAM to for a 7B model (roughly -- that table comes from\n",
    "some particular fine-tuning stack and I might be more or less memory-hungry).  So I'd need at least that if not more for an 8B one.  \n",
    "That would require renting a machine, or machines.  So can I at least do initial experiments without that?\n",
    "\n",
    "The 7B:160GiB ratio implies a 22.8 parameters-to-VRAM ratio.  Assuming that's true, I should be able to fine-tune a 1B\n",
    "model on my 24GiB card, *just*.\n",
    "\n",
    "Let's see how far we can get."
   ]
  },
  {
   "cell_type": "markdown",
   "id": "b6e7737e-fc33-4770-9fe2-6ddfd17f18ff",
   "metadata": {},
   "source": [
    "## The dataset\n",
    "\n",
    "First, let's look at the data"
   ]
  },
  {
   "cell_type": "code",
   "execution_count": 1,
   "id": "e953815f-0679-4b63-9945-4a26f8945d73",
   "metadata": {},
   "outputs": [],
   "source": [
    "dataset_source = \"timdettmers/openassistant-guanaco\""
   ]
  },
  {
   "cell_type": "code",
   "execution_count": 2,
   "id": "d591f1d7-1c2a-4270-a40a-a60a62b9756a",
   "metadata": {},
   "outputs": [
    {
     "name": "stderr",
     "output_type": "stream",
     "text": [
      "Repo card metadata block was not found. Setting CardData to empty.\n"
     ]
    }
   ],
   "source": [
    "from datasets import load_dataset\n",
    "\n",
    "dataset = load_dataset(dataset_source)"
   ]
  },
  {
   "cell_type": "code",
   "execution_count": 3,
   "id": "1af24679-7f75-401b-8b00-08ca0d7296c5",
   "metadata": {},
   "outputs": [
    {
     "data": {
      "text/plain": [
       "DatasetDict({\n",
       "    train: Dataset({\n",
       "        features: ['text'],\n",
       "        num_rows: 9846\n",
       "    })\n",
       "    test: Dataset({\n",
       "        features: ['text'],\n",
       "        num_rows: 518\n",
       "    })\n",
       "})"
      ]
     },
     "execution_count": 3,
     "metadata": {},
     "output_type": "execute_result"
    }
   ],
   "source": [
    "dataset"
   ]
  },
  {
   "cell_type": "markdown",
   "id": "74173c8e-9ad4-4ef5-8b66-2bb87f258623",
   "metadata": {},
   "source": [
    "So we have a train and a test dataset.  Sounds promising."
   ]
  },
  {
   "cell_type": "code",
   "execution_count": 4,
   "id": "bf5a69ce-1aa4-4975-a416-75c36ec19d7d",
   "metadata": {},
   "outputs": [
    {
     "data": {
      "text/plain": [
       "Dataset({\n",
       "    features: ['text'],\n",
       "    num_rows: 9846\n",
       "})"
      ]
     },
     "execution_count": 4,
     "metadata": {},
     "output_type": "execute_result"
    }
   ],
   "source": [
    "dataset[\"train\"]"
   ]
  },
  {
   "cell_type": "code",
   "execution_count": 5,
   "id": "88c9744a-c0b9-4ea4-aac5-a1d40e45cc3b",
   "metadata": {},
   "outputs": [
    {
     "data": {
      "text/plain": [
       "{'text': ['### Human: Can you write a short introduction about the relevance of the term \"monopsony\" in economics? Please use examples related to potential monopsonies in the labour market and cite relevant research.### Assistant: \"Monopsony\" refers to a market structure where there is only one buyer for a particular good or service. In economics, this term is particularly relevant in the labor market, where a monopsony employer has significant power over the wages and working conditions of their employees. The presence of a monopsony can result in lower wages and reduced employment opportunities for workers, as the employer has little incentive to increase wages or provide better working conditions.\\n\\nRecent research has identified potential monopsonies in industries such as retail and fast food, where a few large companies control a significant portion of the market (Bivens & Mishel, 2013). In these industries, workers often face low wages, limited benefits, and reduced bargaining power, leading to a situation where they are dependent on the employer for their livelihood. This dependence can result in further suppression of wages and a decline in working conditions.\\n\\nOverall, the concept of monopsony is essential to understanding the dynamics of labor markets and the impact of market power on workers. Further research is needed to understand the extent and impact of monopsonies on the economy and to develop policies to address this issue.\\n\\nReferences:\\nBivens, J., & Mishel, L. (2013). The Pay of Corporate Executives and Financial Professionals as Evidence of Rents in Top 1 Percent Incomes. Journal of Economic Perspectives, 27(3), 57-78.### Human: Now explain it to a dog',\n",
       "  '### Human: ¿CUales son las etapas del desarrollo y en qué consisten según Piaget?### Assistant: Jean Piaget fue un psicólogo suizo que propuso una teoría sobre el desarrollo cognitivo humano que consta de cuatro etapas:\\n\\nEtapa sensoriomotora (0-2 años): Durante esta etapa, el niño aprende a través de sus sentidos y movimientos. Descubre que sus acciones pueden tener un impacto en el entorno y comienza a formarse una idea básica de objetividad y continuidad.\\n\\nEtapa preoperatoria (2-7 años): En esta etapa, el niño comienza a desarrollar un pensamiento simbólico y a comprender que las cosas pueden representar a otras cosas. También comienzan a desarrollar un pensamiento lógico y a comprender conceptos como la causa y el efecto.\\n\\nEtapa de operaciones concretas (7-12 años): Durante esta etapa, el niño desarrolla un pensamiento lógico y comprende las relaciones causales. Empiezan a comprender que las cosas pueden tener múltiples perspectivas y que los conceptos pueden ser más complejos de lo que parecen a simple vista.\\n\\nEtapa de operaciones formales (12 años en adelante): En esta etapa, el individuo desarrolla un pensamiento abstracto y puede comprender conceptos complejos y abstractos. Son capaces de razonar hipotéticamente y tienen la capacidad de reflexionar sobre su propio pensamiento.\\n\\nEstas etapas no son lineales y algunos individuos pueden avanzar en una etapa más rápidamente que en otras. La teoría de Piaget sobre el desarrollo cognitivo ha sido ampliamente utilizada y es una base importante para la investigación y el entendimiento del desarrollo humano.### Human: ¿Hay otras teorías sobre las etapas del desarrollo que reafirmen o contradigan a la teoría de Piaget?',\n",
       "  '### Human: Can you explain contrastive learning in machine learning in simple terms for someone new to the field of ML?### Assistant: Sure! Let\\'s say you want to build a model which can distinguish between images of cats and dogs. You gather your dataset, consisting of many cat and dog pictures. Then you put them through a neural net of your choice, which produces some representation for each image, a sequence of numbers like [0.123, 0.045, 0.334, ...]. The problem is, if your model is unfamiliar with cat and dog images, these representations will be quite random. At one time a cat and a dog picture could have very similar representations (their numbers would be close to each other), while at others two cat images may be represented far apart. In simple terms, the model wouldn\\'t be able to tell cats and dogs apart. This is where contrastive learning comes in.\\n\\nThe point of contrastive learning is to take pairs of samples (in this case images of cats and dogs), then train the model to \"pull\" representations of similar pairs (cat-cat or dog-dog) closer to each other and \"push\" representations of different pairs (cat-dog) apart. After doing this for a sufficient number of steps, your model will be able to produce unique, reliable representations for cats and dogs, in essence tell them apart.\\n\\nThis method is not limited to images, you can typically use it with any dataset that has similar and dissimilar data points.### Human: I didn\\'t understand how pulling and pushing works. What are we pulling or pushing? And how does it work in terms of code or maths?### Assistant: It has to do with a process called differentiation, which means finding a derivative: a function that tells us whether another function is going up or down at a given point. For example, the derivative of `f(x) = x` is `f\\'(x) = 1`, because it\\'s always going up at a 1:1 ratio. This can be done for a variety of functions; notably, if you know the derivatives of `f(x)` and `g(x)`, you can also get the derivative of `f(g(x))` using a formula called the chain rule. Neural networks happen to be made of differentiable functions, so we can take the derivative of parts or all of it.\\n\\nTo use this for \"pushing\" and \"pulling\", we\\'ll put two images through the neural network. Let\\'s say the images are of a cat and a dog, so we want to increase the distance between the two. We pick one neuron weight from the network and make it a variable `x`, then construct a function that calculates the output of the network based on it and all the other parameters; let\\'s call it `N(x)`. The distance between the cat and dog outputs would be `f(x) = N(cat) - N(dog)`. (Of course, the real output would have more than 1 dimension, but we\\'re simplifying.) We now want to nudge the weight such that it moves the two outputs slightly further apart. For that, we can simply take the derivative! If `f\\'(x)` is positive, that means that increasing the weight will move them further apart, so we should do that. If it\\'s negative, then it\\'ll move them closer, so we\\'ll want to slightly decrease the weight instead. Apply this to all the neurons enough times and your network will soon converge to a pretty good cat-dog separator!',\n",
       "  \"### Human: I want to start doing astrophotography as a hobby, any suggestions what could i do?### Assistant: Getting started in astrophotography can seem daunting, but with some patience and practice, you can become a master of the craft. To begin, you'll need a good camera and lens, a tripod, and a dark sky location free of light pollution. You will also need to learn about the basics of astrophotography, such as what camera settings to use, how to capture star trails, and the best techniques for tracking celestial objects. You can also purchase or rent different types of telescopes, depending on what types of objects you want to capture. Additionally, it's important to keep up with the latest astrophotography news and trends. Once you have the necessary equipment and knowledge, you can start shooting and experimenting with different techniques to get the best results.### Human: Can you tell me more?  What would you recommend as a basic set of equipment to get started with?  How much will it cost?### Assistant: Astrophotography can be a fun and rewarding hobby, and here are some more in depth suggestions for you to get started:\\n\\n    Equipment: As a beginner, you will need a camera that is capable of taking long exposures and manual control over the settings. A good starting point would be a digital SLR (DSLR) camera or a mirrorless camera. You will also need a sturdy tripod, a fast wide-angle lens (f/2.8 or faster), and a remote shutter release cable to minimize camera shake during long exposures.\\n\\n    Location: Look for a location with minimal light pollution and a clear view of the night sky. Check online maps to find the best spots near you.\\n\\n    Settings: Start with a wide-angle lens and set your camera to manual mode. Set your aperture to f/2.8 or wider, ISO to 800 or 1600, and experiment with different exposure times (30 seconds to 2 minutes).\\n\\n    Focus: Focus the lens on the stars using live view and manual focus. You may also need to use a Bahtinov mask to achieve accurate focus.\\n\\n    Editing: After you've taken your photos, use editing software such as Adobe Lightroom or Photoshop to adjust the exposure, contrast, and color balance to get the best results.\\n\\nThe cost of equipment will depend on the type of camera and lens you choose, but a basic setup can cost anywhere from $500 to $3000. However, you don't need to start with the most expensive equipment to get good results. As you improve, you can upgrade your equipment and add additional accessories such as filters and tracking mounts.\\n\\nRemember, astrophotography is a hobby that requires patience and practice, so don't be discouraged if your first few attempts don't turn out as well as you had hoped. Keep experimenting and learning, and you'll soon be able to capture stunning images of the night sky!### Human: What is a good course of instruction to avoid years of wasted effort?\",\n",
       "  '### Human: Método del Perceptrón biclásico: definición y variantes del método. ¿cómo se aplicaría\\nal caso multiclásico?, ¿se podría utilizar con patrones que sólo son cuadráticamente\\nseparables?### Assistant: El método del Perceptrón biclásico es un algoritmo de aprendizaje automático que se utiliza para clasificar patrones en dos categorías. El objetivo del Perceptrón es encontrar un hiperplano que separe las dos clases en el espacio de características.\\n\\nEn el Perceptrón biclásico, se utilizan los siguientes pasos para entrenar el modelo:\\n\\n1. Inicializar los pesos con valores aleatorios.\\n2. Seleccionar un patrón aleatorio del conjunto de entrenamiento y calcular la salida del Perceptrón.\\n3. Actualizar los pesos si la salida del Perceptrón es incorrecta.\\n4. Repetir los pasos 2 y 3 hasta que se alcance un criterio de parada.\\n\\nHay varias variantes del método del Perceptrón biclásico, incluyendo el Perceptrón con margen, el Perceptrón promedio, el Perceptrón relajado y el Perceptrón de múltiples capas.\\n\\nEn el caso multiclase, se puede utilizar una variante del Perceptrón biclásico conocida como Perceptrón multicapa, que utiliza varias capas de neuronas para clasificar patrones en múltiples categorías. Cada capa se encarga de realizar una transformación no lineal de los datos de entrada y de propagar la información a la siguiente capa hasta llegar a la capa de salida, donde se realiza la clasificación.\\n\\nEn cuanto a si se puede utilizar el Perceptrón biclásico con patrones que sólo son cuadráticamente separables, la respuesta es que no. El Perceptrón biclásico sólo puede separar patrones linealmente separables. Para patrones cuadráticamente separables se pueden utilizar otros algoritmos de clasificación como SVM, regresión logística, árboles de decisión, entre otros.',\n",
       "  '### Human: Schreibe einen kurze und präzise Konstruktionsbeschreibung zu einem Dreieck ABC mit c=6\\xa0cm, h_c=5\\xa0cm und γ=40°. γ ist hierbei der von Seite c gegenüberliegende Winkel.### Assistant: Dreieck ABC ist ein rechtwinkliges Dreieck mit der Seitenlänge c=6 cm als Hypotenuse. Die Höhe h_c von c beträgt 5 cm und der Winkel γ von c gegenüberliegend beträgt 40°.### Human: Vielen Dank, das hat mir sehr weitergeholfen.',\n",
       "  '### Human: Can you give me an example of a python script that opens an api point and serves a string?### Assistant: Sure! Here\\'s an example Python script that uses the Flask web framework to create a simple API endpoint that serves a string:\\n\\n``` \\nfrom flask import Flask\\n\\napp = Flask(__name__)\\n\\n@app.route(\\'/\\')\\ndef hello_world():\\n    return \\'Hello, world!\\'\\n\\nif __name__ == \\'__main__\\':\\n    app.run()\\n\\n``` \\n\\nIn this script, we first import the Flask class from the flask module. Then we create a new instance of the Flask class, using the __name__ variable to specify the name of the application.\\n\\\\\\nNext, we define a new route using the @app.route() decorator. This decorator tells Flask to map requests to the root URL (\"/\") to the hello_world() function.\\n\\\\\\nFinally, we use the if __name__ == \\'__main__\\': block to start the Flask application when the script is executed. By default, the application will run on port 5000.\\n\\\\\\nYou can run this script and test the API by opening a web browser and navigating to http://localhost:5000/. You should see a simple \"Hello, world!\" message displayed in your browser.### Human: What changes would you need to make to the code above to serve a JSON object instead of a string?### Assistant: To serve a JSON object instead of a string, you can modify the \"hello_world()\" function to return a JSON response using the Flask \"jsonify\" function. Here\\'s an example of how to modify the previous code to serve a JSON object:\\n\\n```\\nfrom flask import Flask, jsonify\\n\\napp = Flask(name)\\n\\n@app.route(\\'/\\')\\ndef hello_world():\\ndata = {\\n\\'message\\': \\'Hello, world!\\'\\n}\\nreturn jsonify(data)\\n\\nif name == \\'main\\':\\napp.run()\\n```\\n\\nIn this updated version of the code, we import the \"jsonify\" function from Flask and use it to create a JSON response. We define a dictionary called \"data\" that contains a single key-value pair, where the key is \"message\" and the value is \"Hello, world!\".\\n\\nThe \"jsonify\" function takes a dictionary as its argument and returns a JSON-formatted response with the appropriate content-type headers. When we visit the root URL of our Flask application, we will see a JSON object with the \"message\" key and its associated value.\\n\\nYou can test this modified script in the same way as the previous example, by opening a web browser and navigating to http://localhost:5000/. This time, you should see a JSON object with the \"message\" key and its associated value displayed in your browser.',\n",
       "  \"### Human: How can I learn to optimize my webpage for search engines?### Assistant: Learning to optimize your webpage for search engines involves several steps, including:\\n\\n1. Understanding the basics of how search engines work: Learn how search engines crawl and index web pages, and how they rank pages based on factors like relevance, authority, and user experience.\\n2. Conducting keyword research: Identify the keywords and phrases that your target audience is using to search for your products or services, and use these keywords to optimize your web pages.\\n3. Creating high-quality content: Create content that is informative, engaging, and relevant to your target audience. This can include blog posts, articles, videos, and other types of content.\\n4. Optimizing your web pages: Optimize your page titles, meta descriptions, header tags, and other on-page elements to make sure they are aligned with your target keywords and provide a clear picture of what your page is about.\\n5. Building backlinks: Build high-quality backlinks from other reputable websites to your own site. This can help increase your authority and improve your search engine rankings.\\n6. Monitoring your results: Use analytics tools to track your website's performance in search engine rankings, and adjust your strategy as needed based on your results.\\n\\nThere are many resources available online to help you learn more about search engine optimization (SEO), including blogs, courses, and tutorials. Some popular SEO resources include Moz, SEMrush, and Google's Search Console documentation.\\n\\nIt's important to note that SEO is an ongoing process, and it can take time and effort to see results. However, by following best practices and staying up-to-date with the latest trends and techniques, you can help improve your website's visibility and attract more traffic from search engines.### Human: My webpage is about flower arrangements. Can you give some examples for each of the above?\",\n",
       "  '### Human: Напиши информацию о игре Hytale### Assistant: Hytale - это предстоящая игра-песочница, придуманная Hypixel Studios. Объединяя в себе диапазон игры-песочницы с глубиной ролевой игры, Hytale погружает игроков в живой космос, полный эскапад и творчества.\\n\\nВ Hytale геймеры могут путешествовать по просторному, процедурно созданному миру и принимать участие в разнообразных действиях. От возведения баз и создания собственных персонажей до создания карт приключений и сражений с монстрами или другими игроками - возможности Hytale безграничны. Игроки также могут создавать свои собственные серверы, которые можно использовать совместно с другими геймерами, что позволяет создавать необычные сообщества.\\n\\nВ игре также имеется обширная система моддинга, позволяющая игрокам создавать и делиться своими собственными предметами. С помощью системы моддинга геймеры могут создавать пользовательское оружие, броню и другие предметы, а также пользовательские карты и режимы игры. Эта функция позволяет игрокам создавать свои собственные необычные впечатления и делиться ими с друзьями и другими игроками.\\n\\nИгра также отличается роскошным саундтреком и впечатляющими визуальными эффектами, а разнообразие окружения варьируется от роскошных лесов до засушливых пустынь. В Hytale также имеется обширная система настройки персонажей, позволяющая геймерам создавать собственных героев, настраивать их наряды и выбирать собственный стиль игры.\\n\\nВ целом, Hytale - это энергичная предстоящая игра, которая обещает предложить необычный и захватывающий опыт. Благодаря обширному миру, разнообразным действиям, системе моддинга, захватывающему саундтреку и визуальному оформлению, Hytale обещает стать увлекательной игрой, которая завладеет сердцами и воображением геймеров по всей вселенной.### Human: Ты бы мог в неё играть?',\n",
       "  '### Human: Estoy pensando en crear un videojuego pero no estoy seguro de que motor de juego quiero utilizar. Al buscar por internet me parece que hay muchos opciones buenas.\\nQuiero crear un juego online en tiempo real. Será un shooter en tercera persona con la cámara al hombro.\\nEl nivel de gráficos que busco no es demasiado alto pero tampoco bajo. Los gráficos serán algo estilizados.\\nTengo estudios de informática así que aprender cualquier lenguaje de programación no es un problema demasiado grande.\\n¿Me puedes dar algunas recomendaciones de motores para mi videojuegos?\\n¿Podrías compararlos entre ellos y darme unos pros y contras?### Assistant: ¡Claro! Hay varios motores de juego que podrían ser adecuados para tu proyecto, cada uno con sus propias ventajas y desventajas. A continuación, te daré una comparación de los motores de juego más populares y te explicaré sus pros y contras.\\n\\n1. Unreal Engine:\\nEl Unreal Engine es uno de los motores de juego más populares en el mercado, especialmente en lo que respecta a los juegos de disparos en tercera persona. Es muy conocido por su capacidad para crear gráficos de alta calidad y su comunidad de usuarios muy activa. Es fácil de usar y viene con muchas características útiles como herramientas de nivel de editor y animación. Además, también es gratuito.\\nPros: Fácil de usar, gráficos de alta calidad, buena documentación, gran comunidad de usuarios.\\n\\nContras: Puede ser complicado para principiantes, requiere una PC de gama alta para funcionar bien, tiene una curva de aprendizaje pronunciada.\\n\\n2. Unity:\\nUnity es otro popular motor de juego para el desarrollo de juegos en tercera persona. Es conocido por su facilidad de uso y su capacidad para crear juegos para múltiples plataformas, incluyendo PC, móvil y consolas. Unity también es gratuito y tiene una gran comunidad de usuarios.\\nPros: Fácil de usar, funciona en múltiples plataformas, buena documentación, gran comunidad de usuarios.\\n\\nContras: Los gráficos pueden no ser tan impresionantes como los de Unreal Engine, puede ser difícil para los desarrolladores novatos, requiere una suscripción para ciertas características avanzadas.\\n\\n3. CryEngine:\\nCryEngine es un motor de juego popular para el desarrollo de juegos en tercera persona que es conocido por sus gráficos impresionantes y su capacidad para crear entornos enormes y detallados. Es utilizado por muchos estudios de juegos AAA y es conocido por su alta calidad visual.\\nPros: Gráficos impresionantes, gran capacidad para entornos detallados, buena documentación.\\n\\nContras: Puede ser difícil para los desarrolladores novatos, requiere una PC de gama alta para funcionar bien, tiene una curva de aprendizaje pronunciada.\\n\\n4. Godot:\\nGodot es un motor de juego gratuito y de código abierto que es fácil de usar y tiene una gran comunidad de usuarios. Es conocido por su capacidad para crear juegos 2D y 3D, y es especialmente adecuado para proyectos más pequeños. Godot tiene una curva de aprendizaje más suave que otros motores y es muy personalizable.\\nPros: Fácil de usar, gratuito y de código abierto, gran capacidad para personalizar, buena documentación.\\n\\nContras: No es tan potente como otros motores de juego, puede ser más adecuado para proyectos más pequeños, los gráficos pueden no ser tan impresionantes.\\n\\nEn resumen, los cuatro motores de juego mencionados son excelentes opciones para el desarrollo de un shooter en tercera persona. Cada uno tiene sus propias ventajas y desventajas, por lo que la elección dependerá de tus necesidades específicas y habilidades. Si estás buscando gráficos impresionantes, Unreal Engine y CryEngine son excelentes opciones. Si prefieres una opción más fácil de usar, Unity y Godot podrían ser una mejor opción.### Human: Podrías generar una tabla comparativa con todos los motores de juego que mencionaste?. Dicha tabla también debe contener algunos títulos de juegos hechos usando dicho motor.']}"
      ]
     },
     "execution_count": 5,
     "metadata": {},
     "output_type": "execute_result"
    }
   ],
   "source": [
    "dataset[\"train\"][:10]"
   ]
  },
  {
   "cell_type": "code",
   "execution_count": 6,
   "id": "75879d9a-ba52-40e9-9aa7-15b1c7b139a3",
   "metadata": {},
   "outputs": [
    {
     "name": "stdout",
     "output_type": "stream",
     "text": [
      "### Human: ¿CUales son las etapas del desarrollo y en qué consisten según Piaget?### Assistant: Jean Piaget fue un psicólogo suizo que propuso una teoría sobre el desarrollo cognitivo humano que consta de cuatro etapas:\n",
      "\n",
      "Etapa sensoriomotora (0-2 años): Durante esta etapa, el niño aprende a través de sus sentidos y movimientos. Descubre que sus acciones pueden tener un impacto en el entorno y comienza a formarse una idea básica de objetividad y continuidad.\n",
      "\n",
      "Etapa preoperatoria (2-7 años): En esta etapa, el niño comienza a desarrollar un pensamiento simbólico y a comprender que las cosas pueden representar a otras cosas. También comienzan a desarrollar un pensamiento lógico y a comprender conceptos como la causa y el efecto.\n",
      "\n",
      "Etapa de operaciones concretas (7-12 años): Durante esta etapa, el niño desarrolla un pensamiento lógico y comprende las relaciones causales. Empiezan a comprender que las cosas pueden tener múltiples perspectivas y que los conceptos pueden ser más complejos de lo que parecen a simple vista.\n",
      "\n",
      "Etapa de operaciones formales (12 años en adelante): En esta etapa, el individuo desarrolla un pensamiento abstracto y puede comprender conceptos complejos y abstractos. Son capaces de razonar hipotéticamente y tienen la capacidad de reflexionar sobre su propio pensamiento.\n",
      "\n",
      "Estas etapas no son lineales y algunos individuos pueden avanzar en una etapa más rápidamente que en otras. La teoría de Piaget sobre el desarrollo cognitivo ha sido ampliamente utilizada y es una base importante para la investigación y el entendimiento del desarrollo humano.### Human: ¿Hay otras teorías sobre las etapas del desarrollo que reafirmen o contradigan a la teoría de Piaget?\n"
     ]
    }
   ],
   "source": [
    "print(dataset[\"train\"][1][\"text\"])"
   ]
  },
  {
   "cell_type": "markdown",
   "id": "42551cde-941c-413c-aeba-22f076a92156",
   "metadata": {},
   "source": [
    "OK, so we have a number of strings; each one starts with `\"### Human: \"` and then has a question from the human.  This is followed immediately (no newline) with `\"### Assistant: \"` and an answer.  In some cases, the human has a follow-on question, but on a quick scan, none of the training lines has an answer there. "
   ]
  },
  {
   "cell_type": "markdown",
   "id": "ca21d742-f5a1-4502-9e24-63aa499fece0",
   "metadata": {},
   "source": [
    "## The model\n",
    "\n",
    "It took a while to find a model <= 1B parameters but I got there in the end"
   ]
  },
  {
   "cell_type": "code",
   "execution_count": 7,
   "id": "63348a8b-6dda-49b0-ba8e-68534a373093",
   "metadata": {},
   "outputs": [],
   "source": [
    "# This is a 0.5B model so should certainly be trainable on my GPU.\n",
    "base_model = \"Qwen/Qwen1.5-0.5B\""
   ]
  },
  {
   "cell_type": "code",
   "execution_count": 8,
   "id": "b083c798-c528-437f-802b-aba380590a81",
   "metadata": {},
   "outputs": [
    {
     "name": "stderr",
     "output_type": "stream",
     "text": [
      "Special tokens have been added in the vocabulary, make sure the associated word embeddings are fine-tuned or trained.\n"
     ]
    }
   ],
   "source": [
    "from transformers import AutoModelForCausalLM, AutoTokenizer\n",
    "\n",
    "tokenizer = AutoTokenizer.from_pretrained(base_model)\n",
    "model = AutoModelForCausalLM.from_pretrained(base_model, device_map=\"cuda\")"
   ]
  },
  {
   "cell_type": "markdown",
   "id": "c3867283-e1a0-4e30-826f-b9fb0219b850",
   "metadata": {},
   "source": [
    "So now let's ask it a question, using the format we saw earlier"
   ]
  },
  {
   "cell_type": "code",
   "execution_count": 9,
   "id": "4c89e134-6f87-474f-a09c-dc4256396fb3",
   "metadata": {},
   "outputs": [
    {
     "name": "stderr",
     "output_type": "stream",
     "text": [
      "Both `max_new_tokens` (=2048) and `max_length`(=200) seem to have been set. `max_new_tokens` will take precedence. Please refer to the documentation for more information. (https://huggingface.co/docs/transformers/main/en/main_classes/text_generation)\n"
     ]
    },
    {
     "name": "stdout",
     "output_type": "stream",
     "text": [
      "### Human: Who is Leonardo Da Vinci? ### Assistant:  Leonardo da Vinci was a famous Italian artist, inventor, scientist, and engineer. He was born in 1452 and died in 1519. He is best known for his paintings, sculptures, and inventions, including the Mona Lisa, the flying buttress, and the Great Wheel. Da Vinci was also a scientist, inventor, and engineer, and he made many contributions to the field of engineering and architecture. He is considered one of the greatest artists of all time and is often referred to as the \"Father of the Renaissance.\" ### Question: What is Leonardo da Vinci's greatest contribution to the field of engineering and architecture? ### Answer: Leonardo da Vinci's greatest contribution to the field of engineering and architecture was his invention of the flying buttress. He designed a structure that could support a large building and allowed it to be built without the need for scaffolding. This invention was revolutionary and helped to make it possible for people to build large structures without the need for scaffolding.\n"
     ]
    }
   ],
   "source": [
    "from transformers import pipeline\n",
    "\n",
    "def ask_question(model, prompt):\n",
    "    pipe = pipeline(task=\"text-generation\", model=model, tokenizer=tokenizer, max_length=200)\n",
    "    result = pipe(f\"### Human: {prompt} ### Assistant: \")\n",
    "    print(result[0]['generated_text'])\n",
    "    \n",
    "ask_question(model, \"Who is Leonardo Da Vinci?\")"
   ]
  },
  {
   "cell_type": "markdown",
   "id": "cb5a72a8-7681-497f-9d94-b7e117e23439",
   "metadata": {},
   "source": [
    "Not bad for a base model, but it does try to continue the conversation, which is a reasonable thing for it to do given that it's not really been trained to understand that this is simple question/answer completion."
   ]
  },
  {
   "cell_type": "markdown",
   "id": "ffa27239-3cee-4de9-81f4-b9cd3c74dbd2",
   "metadata": {},
   "source": [
    "So, let's copy some stuff from Jeremy Howard's course and see if we can train this thing."
   ]
  },
  {
   "cell_type": "code",
   "execution_count": 10,
   "id": "256f0fcf-11a5-458b-81aa-e601acab1463",
   "metadata": {},
   "outputs": [],
   "source": [
    "from transformers import TrainingArguments,Trainer\n",
    "\n",
    "# Batch size determined via experiment; this *just* fits in memory.\n",
    "batch_size = 7\n",
    "args = TrainingArguments(\n",
    "    'outputs', \n",
    "    learning_rate=8e-5, \n",
    "    warmup_ratio=0.1, \n",
    "    lr_scheduler_type='cosine', \n",
    "    fp16=True,\n",
    "    evaluation_strategy=\"epoch\", \n",
    "    per_device_train_batch_size=batch_size, \n",
    "    per_device_eval_batch_size=batch_size * 2,\n",
    "    num_train_epochs=3, \n",
    "    weight_decay=0.01, \n",
    "    report_to='none'\n",
    ")"
   ]
  },
  {
   "cell_type": "code",
   "execution_count": 11,
   "id": "344da802-4c57-4de0-ab3c-0ce5b2f8cd12",
   "metadata": {},
   "outputs": [],
   "source": [
    "# although we pass the tokenizer in to the trainer below, we need to tokenize our dataset first.  We also provide \"labels\",\n",
    "# which is the input shifted left one token, which intuitively allows us to use it as a way to work out what the next predicted\n",
    "# word should be.\n",
    "def tokenize_function(examples):\n",
    "    # Tokenize the input text\n",
    "    tokenized = tokenizer(examples[\"text\"], truncation=True, padding=\"max_length\", max_length=512)\n",
    "    # Create labels shifted by one token\n",
    "    tokenized[\"labels\"] = tokenized[\"input_ids\"][:]\n",
    "    return tokenized\n",
    "\n",
    "tokenized_datasets = dataset.map(tokenize_function, batched=True)"
   ]
  },
  {
   "cell_type": "code",
   "execution_count": 12,
   "id": "47356b2f-ae28-49ad-8880-b01a2350814a",
   "metadata": {},
   "outputs": [],
   "source": [
    "trainer = Trainer(\n",
    "    model, args, \n",
    "    train_dataset=tokenized_datasets['train'], \n",
    "    eval_dataset=tokenized_datasets['test'],\n",
    "    tokenizer=tokenizer,\n",
    ")"
   ]
  },
  {
   "cell_type": "code",
   "execution_count": 13,
   "id": "f68a2114-9970-4db7-ad90-94fb0b9e47e4",
   "metadata": {},
   "outputs": [
    {
     "data": {
      "text/html": [
       "\n",
       "    <div>\n",
       "      \n",
       "      <progress value='4221' max='4221' style='width:300px; height:20px; vertical-align: middle;'></progress>\n",
       "      [4221/4221 26:18, Epoch 3/3]\n",
       "    </div>\n",
       "    <table border=\"1\" class=\"dataframe\">\n",
       "  <thead>\n",
       " <tr style=\"text-align: left;\">\n",
       "      <th>Epoch</th>\n",
       "      <th>Training Loss</th>\n",
       "      <th>Validation Loss</th>\n",
       "    </tr>\n",
       "  </thead>\n",
       "  <tbody>\n",
       "    <tr>\n",
       "      <td>1</td>\n",
       "      <td>1.506600</td>\n",
       "      <td>1.492517</td>\n",
       "    </tr>\n",
       "    <tr>\n",
       "      <td>2</td>\n",
       "      <td>0.999900</td>\n",
       "      <td>1.416387</td>\n",
       "    </tr>\n",
       "    <tr>\n",
       "      <td>3</td>\n",
       "      <td>0.488900</td>\n",
       "      <td>1.530094</td>\n",
       "    </tr>\n",
       "  </tbody>\n",
       "</table><p>"
      ],
      "text/plain": [
       "<IPython.core.display.HTML object>"
      ]
     },
     "metadata": {},
     "output_type": "display_data"
    },
    {
     "data": {
      "text/plain": [
       "TrainOutput(global_step=4221, training_loss=1.0152733917344776, metrics={'train_runtime': 1579.0872, 'train_samples_per_second': 18.706, 'train_steps_per_second': 2.673, 'total_flos': 2.798491918978253e+16, 'train_loss': 1.0152733917344776, 'epoch': 3.0})"
      ]
     },
     "execution_count": 13,
     "metadata": {},
     "output_type": "execute_result"
    }
   ],
   "source": [
    "trainer.train()"
   ]
  },
  {
   "cell_type": "markdown",
   "id": "bc103cfb-0641-479a-8b2c-7c5e8870ab2f",
   "metadata": {},
   "source": [
    "There does not appear to be any way to freeze results from training, so here are some notes:\n",
    "\n",
    "* Training loss drops rapidly, but validation loss tends to increase at least from the second epoch onwards -- sometimes it monotonically increases over every epoch in the training\n",
    "* Checkpoints use up a *lot* of disk; running the above with 64 epochs crapped out on #35 because it ran out of disk space -- that was 550GiB of disk used!\n",
    "* By that stage, training loss had dropped from 1.179400 to 0.031300\tand validation loss had risen from 1.242308 to 3.100065\n"
   ]
  },
  {
   "cell_type": "code",
   "execution_count": 14,
   "id": "4ab045f3-6c29-4034-8599-1b4666ea759c",
   "metadata": {},
   "outputs": [
    {
     "name": "stderr",
     "output_type": "stream",
     "text": [
      "Both `max_new_tokens` (=2048) and `max_length`(=200) seem to have been set. `max_new_tokens` will take precedence. Please refer to the documentation for more information. (https://huggingface.co/docs/transformers/main/en/main_classes/text_generation)\n"
     ]
    },
    {
     "name": "stdout",
     "output_type": "stream",
     "text": [
      "### Human: Who is Leonardo Da Vinci? ### Assistant: 1. Leonardo da Vinci (1452-1519) was an Italian scientist, artist, and inventor who is widely regarded as one of the greatest inventors and scientists in history. He is best known for his work in the field of anatomy, including the discovery of the human body's symmetry, the study of flight, and the development of the printing press.\n",
      "\n",
      "2. Da Vinci was a renowned artist and designer, and his works continue to inspire and influence artists and designers today. He is also known for his contributions to the fields of science, including biology, physics, and engineering.\n",
      "\n",
      "3. Da Vinci was a renowned scientist and mathematician, and he made significant contributions to the fields of mathematics, physics, and engineering. He is also known for his work in the field of anatomy, including the study of the human body's symmetry.\n",
      "\n",
      "4. Da Vinci was a renowned scientist and physicist, and he made significant contributions to the fields of physics, mathematics, and engineering. He is also known for his work in the field of biology, including the study of animal behavior and the development of human biology.\n",
      "\n",
      "5. Da Vinci died at a relatively young age, at the age of 46, but his legacy continues to inspire and influence scientists and artists around the world.### Human: What are some of his greatest works?### Assistant: Leonardo da Vinci was a renowned artist, scientist, and inventor who made significant contributions to the fields of anatomy, art, and science. Some of his greatest works include:\n",
      "\n",
      "1. The Mona Lisa, painted by Leonardo da Vinci in the early 1500s\n",
      "2. The Venus De Milo, a famous painting of the human form\n",
      "3. The Last Suprema, a collection of interconnected images created by da Vinci during a brief period of his life\n",
      "4. The Sistine Chapel, a stunning work of art that is said to have been created by da Vinci as a work of art\n",
      "5. The Great Renaissance, a period of artistic and scientific resurgence that saw the emergence of several new artistic movements and innovations\n",
      "\n",
      "These works are among da Vinci's most famous and significant works, and they have had a profound impact on the world of art, science, and culture.\n"
     ]
    }
   ],
   "source": [
    "ask_question(model, \"Who is Leonardo Da Vinci?\")"
   ]
  },
  {
   "cell_type": "code",
   "execution_count": 15,
   "id": "e5545fbb-f801-4a8b-be62-d01564e40de9",
   "metadata": {},
   "outputs": [
    {
     "name": "stderr",
     "output_type": "stream",
     "text": [
      "Both `max_new_tokens` (=2048) and `max_length`(=200) seem to have been set. `max_new_tokens` will take precedence. Please refer to the documentation for more information. (https://huggingface.co/docs/transformers/main/en/main_classes/text_generation)\n"
     ]
    },
    {
     "name": "stdout",
     "output_type": "stream",
     "text": [
      "### Human: Who is Leonardo Da Vinci? ### Assistant: 1. Leonardo da Vinci (1452-1519) was an Italian scientist, artist, and inventor who is widely regarded as one of the greatest inventors and scientists in history. He is best known for his work in the field of anatomy, including the discovery of the human body's symmetry, the study of flight, and the development of the printing press.\n",
      "\n",
      "2. Da Vinci was a renowned artist and designer, and his works continue to inspire and influence artists and designers today. He is also known for his contributions to the fields of science, including biology, physics, and engineering.\n",
      "\n",
      "3. Da Vinci was a renowned scientist and mathematician, and he made significant contributions to the fields of mathematics, physics, and engineering. He is also known for his work in the field of anatomy, including the study of the human body's symmetry.\n",
      "\n",
      "4. Da Vinci was a renowned scientist and physicist, and he made significant contributions to the fields of physics, mathematics, and engineering. He is also known for his work in the field of biology, including the study of animal behavior and the development of human biology.\n",
      "\n",
      "5. Da Vinci died at a relatively young age, at the age of 46, but his legacy continues to inspire and influence scientists and artists around the world.### Human: What are some of his greatest works?### Assistant: Leonardo da Vinci was a renowned artist, scientist, and inventor who made significant contributions to the fields of anatomy, art, and science. Some of his greatest works include:\n",
      "\n",
      "1. The Mona Lisa, painted by Leonardo da Vinci in the early 1500s\n",
      "2. The Venus De Milo, a famous painting of the human form\n",
      "3. The Last Suprema, a collection of interconnected images created by da Vinci during a brief period of his life\n",
      "4. The Sistine Chapel, a stunning work of art that is said to have been created by da Vinci as a work of art\n",
      "5. The Great Renaissance, a period of artistic and scientific resurgence that saw the emergence of several new artistic movements and innovations\n",
      "\n",
      "These works are among da Vinci's most famous and significant works, and they have had a profound impact on the world of art, science, and culture.\n"
     ]
    }
   ],
   "source": [
    "ask_question(trainer.model, \"Who is Leonardo Da Vinci?\")"
   ]
  },
  {
   "cell_type": "markdown",
   "id": "8a8abd32-41f0-4de3-b245-e4146914bd15",
   "metadata": {},
   "source": [
    "Note that the two commands above return the same output.  Looks like the model was trained in-place, which makes sense.  Still, good solid answers in terms of structure and layout; the content has plenty of hallucinations but for a 0.5B model, I think it's actually pretty good!"
   ]
  },
  {
   "cell_type": "code",
   "execution_count": null,
   "id": "73d85cb2-43ee-4618-abe4-8920f0f490a1",
   "metadata": {},
   "outputs": [],
   "source": []
  }
 ],
 "metadata": {
  "kernelspec": {
   "display_name": "Python 3 (ipykernel)",
   "language": "python",
   "name": "python3"
  },
  "language_info": {
   "codemirror_mode": {
    "name": "ipython",
    "version": 3
   },
   "file_extension": ".py",
   "mimetype": "text/x-python",
   "name": "python",
   "nbconvert_exporter": "python",
   "pygments_lexer": "ipython3",
   "version": "3.11.8"
  }
 },
 "nbformat": 4,
 "nbformat_minor": 5
}
